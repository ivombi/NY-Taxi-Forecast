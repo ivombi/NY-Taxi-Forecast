{
 "cells": [
  {
   "cell_type": "markdown",
   "metadata": {},
   "source": [
    "#### Author: Kubam Ivo"
   ]
  },
  {
   "cell_type": "markdown",
   "metadata": {},
   "source": [
    "#### Date: 1/26/2021\""
   ]
  },
  {
   "cell_type": "markdown",
   "metadata": {},
   "source": [
    "#### Project: NY Taxi Time Series Forecast"
   ]
  },
  {
   "cell_type": "code",
   "execution_count": 1,
   "metadata": {},
   "outputs": [],
   "source": [
    "# Importing the necessary packages\n",
    "from __future__ import print_function\n",
    "from ipywidgets import interact, interactive, fixed, interact_manual\n",
    "import ipywidgets as widgets\n",
    "import pandas as pd\n",
    "import numpy as np\n",
    "import pmdarima as pm\n",
    "import numpy as np\n",
    "import calendar\n",
    "from matplotlib import pyplot as plt"
   ]
  },
  {
   "cell_type": "code",
   "execution_count": 2,
   "metadata": {},
   "outputs": [],
   "source": [
    "# Importing the data set\n",
    "df = pd.read_csv(\"C:\\\\Users\\\\ivomb\\\\OneDrive\\\\Personal_Projects\\\\df_ts.csv\")\n",
    "df_loc = pd.read_csv('./Data/df_loc.csv')"
   ]
  },
  {
   "cell_type": "code",
   "execution_count": 3,
   "metadata": {},
   "outputs": [],
   "source": [
    "# defining functions,\n",
    "def time_series(start,end,field,borough,taxi,df=df, df_zone = df_loc):\n",
    "    '''This function receives parameters and filters, grouped and output a time series dataset'''\n",
    "    \n",
    "    df_zone = df_zone[df_zone['Borough'].isin(list(borough))]\n",
    "    dict = {}\n",
    "    df_zone = df_zone.reset_index()\n",
    "    for i in range(df_zone.shape[0]):\n",
    "        dict[df_zone['Zone'][i]] = df_zone['LocationID'][i]\n",
    "    dict['ALL'] = 265\n",
    "    loc_list = [(k, v) for k, v in dict.items()] \n",
    "    \n",
    "    \n",
    "    # filter records based on start, end and taxi type\"\n",
    "    df = pd.DataFrame(df.loc[(df['pulocationid'] == start) & (df['dolocationid'] == end)\n",
    "                            & (df['taxi_type'] == taxi) ])\n",
    "\n",
    "    df = df.groupby(['trip_month','year']).agg(value = (field,'median'),).reset_index()\n",
    "    \n",
    "     # sorting dataframe by month and year\",\n",
    "    df.sort_values(by=['year','trip_month'],inplace=True)\n",
    "\n",
    "    index = np.arange(df.shape[0])\n",
    "    df.set_index(index,inplace=True)\n",
    "  \n",
    "    return df"
   ]
  },
  {
   "cell_type": "code",
   "execution_count": 4,
   "metadata": {},
   "outputs": [],
   "source": [
    "def model_pred(df,period=6):\n",
    "    model = pm.auto_arima(df['value'], error_action='ignore', trace=False, suppress_warnings=True,stepwise=True,\\\n",
    "                          maxiter=10,seasonal=True, m=12)\n",
    "    \n",
    "    pred , CI = model.predict(n_periods=6, return_conf_int=True)\n",
    "    return pred, CI, model\n",
    "    "
   ]
  },
  {
   "cell_type": "code",
   "execution_count": 5,
   "metadata": {},
   "outputs": [],
   "source": [
    "def plot(df,pred,CI,model,model_show,pred_show,field,taxi):\n",
    "    start = df.shape[0]\n",
    "    end = df.shape[0]+6\n",
    "    x_values = np.arange(start,end)\n",
    "    plt.plot(df.index,df['value'])\n",
    "    plt.title('Time Series forecast for ' + field)\n",
    "    plt.plot(pd.Series(x_values),pred, alpha=0.4, marker='x',c='red')\n",
    "    plt.fill_between(x_values, CI[:, 0], CI[:, 1], alpha=0.1, color='b')\n",
    "    print('Number of observations: ', df.shape[0])\n",
    "    print('First Observation: ', 'month:', calendar.month_name[df['trip_month'][1]], ', year:',df['year'][1], \\\n",
    "          ', value:','{:,.2f}'.format(df['value'][1]))\n",
    "    print('Last Observation: ', 'month:', calendar.month_name[df['trip_month'][df.shape[0]-1]],\\\n",
    "          ', year:',df['year'][df.shape[0]-1] , 'value:','{:,.2f}'.format(df['value'][df.shape[0]-1]))\n",
    "    \n",
    "    if pred_show==True:\n",
    "        print('first 5 observed values:')\n",
    "        print(df.head())\n",
    "        print('last 5 observed values:')\n",
    "        print(df.tail())\n",
    "        print('Forecast values are')\n",
    "        [print('{:,.2f}'.format(x),end=', ') for x in pred]\n",
    "    plt.show()\n",
    "    \n",
    "    if model_show==True:\n",
    "        print(model.summary())\n",
    "        "
   ]
  },
  {
   "cell_type": "code",
   "execution_count": 6,
   "metadata": {},
   "outputs": [],
   "source": [
    "def forecast(start,end,field,borough,taxi, model_show,pred_show, df=df, df_zone = df_loc,period = 6):\n",
    "    df = time_series(start,end,field,borough,taxi,df=df, df_zone = df_loc)\n",
    "    if df.shape[0] > 12:\n",
    "        pred, CI, model = model_pred(df,period=6)\n",
    "        plot(df,pred,CI,model,model_show,pred_show,field,taxi)\n",
    "    else: \n",
    "        print('Not enough data to make forecast')\n",
    "    "
   ]
  },
  {
   "cell_type": "code",
   "execution_count": 7,
   "metadata": {},
   "outputs": [],
   "source": [
    "field_list = [('Trip duration','trip_duration'),('Trip Amount','total_amount')]  \n",
    "\n",
    "dict = {}\n",
    "for i in range(df_loc.shape[0]):\n",
    "    dict[df_loc['Zone'][i]] = df_loc['LocationID'][i]\n",
    "\n",
    "loc_list = [(k, v) for k, v in dict.items()] "
   ]
  },
  {
   "cell_type": "code",
   "execution_count": 8,
   "metadata": {},
   "outputs": [
    {
     "data": {
      "application/vnd.jupyter.widget-view+json": {
       "model_id": "941110a175644762a579ee5a3e609b3e",
       "version_major": 2,
       "version_minor": 0
      },
      "text/plain": [
       "Accordion(children=(HBox(children=(SelectMultiple(description='Borough', index=(3, 5), options=('Bronx', 'Broo…"
      ]
     },
     "metadata": {},
     "output_type": "display_data"
    },
    {
     "data": {
      "application/vnd.jupyter.widget-view+json": {
       "model_id": "b0aa4e7424904f60a52a30e0b721e599",
       "version_major": 2,
       "version_minor": 0
      },
      "text/plain": [
       "Output()"
      ]
     },
     "metadata": {},
     "output_type": "display_data"
    }
   ],
   "source": [
    "a = widgets.Dropdown(description='Start',options=loc_list,value=132)\n",
    "b = widgets.Dropdown(description='End',options=loc_list,value=43)\n",
    "d = widgets.Select(description='Field',options=field_list, value='trip_duration')\n",
    "e = widgets.RadioButtons(description='Taxi',options=['green','yellow'], value='yellow')\n",
    "f = widgets.SelectMultiple(description='Borough',options=['Bronx','Brooklyn','EWR','Manhattan','Staten Island', 'Queens'], value=['Manhattan','Queens'])\n",
    "g = widgets.IntSlider(value=6,min=3,max=12,step=1,description='Periods:',orientation='horizontal',readout=True,readout_format='d')\n",
    "h = widgets.Checkbox(value=True, description='Show Pred', disabled=False)\n",
    "i = widgets.Checkbox(value=False,description='Model details',disabled=False)\n",
    "\n",
    "loc_box = widgets.HBox([f, a,b])\n",
    "stat_box = widgets.HBox([e,d,g])\n",
    "opt_box = widgets.HBox([h,i])\n",
    "\n",
    "accordion = widgets.Accordion(children=[loc_box,stat_box, opt_box])\n",
    "accordion.set_title(0, 'Location')\n",
    "accordion.set_title(1, 'Statistics')\n",
    "accordion.set_title(2, 'Options')\n",
    "out = widgets.interactive_output(forecast,{'start':a,'end':b,'taxi':e, 'field':d,'borough':f,'period':g, 'model_show':i,'pred_show':h})\n",
    "display(accordion, out)"
   ]
  },
  {
   "cell_type": "code",
   "execution_count": null,
   "metadata": {},
   "outputs": [],
   "source": []
  },
  {
   "cell_type": "code",
   "execution_count": null,
   "metadata": {},
   "outputs": [],
   "source": []
  }
 ],
 "metadata": {
  "kernelspec": {
   "display_name": "Python 3",
   "language": "python",
   "name": "python3"
  },
  "language_info": {
   "codemirror_mode": {
    "name": "ipython",
    "version": 3
   },
   "file_extension": ".py",
   "mimetype": "text/x-python",
   "name": "python",
   "nbconvert_exporter": "python",
   "pygments_lexer": "ipython3",
   "version": "3.8.3"
  }
 },
 "nbformat": 4,
 "nbformat_minor": 4
}
